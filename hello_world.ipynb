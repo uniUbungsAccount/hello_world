{
 "cells": [
  {
   "cell_type": "code",
   "execution_count": 2,
   "id": "e735ed15-c10a-4329-939d-f01e0251fab2",
   "metadata": {},
   "outputs": [
    {
     "name": "stdout",
     "output_type": "stream",
     "text": [
      "hello world!\n"
     ]
    }
   ],
   "source": [
    "# Python program to print hello world\n",
    "\n",
    "print(\"hello world!\");"
   ]
  },
  {
   "cell_type": "code",
   "execution_count": null,
   "id": "15370d43-eb1a-43dc-80cd-572530fbf90a",
   "metadata": {},
   "outputs": [],
   "source": []
  }
 ],
 "metadata": {
  "kernelspec": {
   "display_name": "Python 3 (ipykernel)",
   "language": "python",
   "name": "python3"
  },
  "language_info": {
   "codemirror_mode": {
    "name": "ipython",
    "version": 3
   },
   "file_extension": ".py",
   "mimetype": "text/x-python",
   "name": "python",
   "nbconvert_exporter": "python",
   "pygments_lexer": "ipython3",
   "version": "3.10.7"
  }
 },
 "nbformat": 4,
 "nbformat_minor": 5
}
